{
 "cells": [
  {
   "cell_type": "markdown",
   "metadata": {},
   "source": [
    "# Comparación condiciones cara y no-cara"
   ]
  },
  {
   "cell_type": "markdown",
   "metadata": {},
   "source": [
    "Importar todas las librerías necesarias para realizar los cálculos"
   ]
  },
  {
   "cell_type": "code",
   "execution_count": 1,
   "metadata": {},
   "outputs": [
    {
     "name": "stderr",
     "output_type": "stream",
     "text": [
      " 2020-11-18 12:37:08,783 - DEBUG - Define classes and functions.\n"
     ]
    }
   ],
   "source": [
    "import glob\n",
    "import logging\n",
    "import numpy as np\n",
    "import os\n",
    "import json\n",
    "\n",
    "from scipy.io import wavfile\n",
    "import scipy.stats as stats\n",
    "import scipy.signal as snl\n",
    "import processing as pr\n",
    "\n",
    "logging.disable(logging.CRITICAL)"
   ]
  },
  {
   "cell_type": "markdown",
   "metadata": {},
   "source": [
    "Definir las constantes del experimento que se van a usar en el análisis"
   ]
  },
  {
   "cell_type": "code",
   "execution_count": 2,
   "metadata": {},
   "outputs": [],
   "source": [
    "freq_ranges = {\"delta\": (1, 3), \"theta_low\": (3, 5), \"theta_high\": (5, 7),\n",
    "               \"alpha\": (7, 12), \"beta\": (12, 30), \"gamma_low\": (30, 50), \"gamma_high\": (50, 100)}\n",
    "bands = list(freq_ranges.keys())\n",
    "freq_limits = [1, 3, 5, 7, 12, 30, 50, 100]\n",
    "channels = ['Fp1', 'Fpz', 'Fp2', 'AF7', 'AF3', 'AF4', 'AF8', 'F7', 'F5', 'F3', 'F1', 'Fz', 'F2', 'F4', 'F6', 'F8', 'FT7', 'FC5', 'FC3', 'FC1', 'FCz', 'FC2', 'FC4', 'FC6', 'FT8', 'T7', 'C5', 'C3', 'C1', 'Cz', 'C2', 'C4', 'C6', 'T8', 'TP7', 'CP5', 'CP3', 'CP1', 'CPz', 'CP2', 'CP4', 'CP6', 'TP8', 'P7', 'P5', 'P3', 'P1', 'Pz', 'P2', 'P4', 'P6', 'P8', 'PO7', 'PO3', 'PO4', 'PO8', 'O1', 'Oz', 'O2', 'HEOG+', 'HEOG', 'VEOG+', 'VEOG', 'M1']\n",
    "phs_lims = np.linspace(-np.pi, np.pi, 4)"
   ]
  },
  {
   "cell_type": "markdown",
   "metadata": {},
   "source": [
    "Definir los lugares donde se encuentran los archivos"
   ]
  },
  {
   "cell_type": "code",
   "execution_count": 3,
   "metadata": {},
   "outputs": [],
   "source": [
    "raw_data_folder_path = \"../raw_data/\"\n",
    "segment_folder_path = \"../preprocessed_data/segments/\"\n",
    "segment_file_paths = glob.glob(segment_folder_path + \"*.dat\")\n",
    "mi_folder_path = \"../results/mutualinfo/ds8/\"\n",
    "mi_file_paths = glob.glob(mi_folder_path + \"*.mi\")\n",
    "multimedia_folder_path = \"../raw_data/Stimuli/\"  # \"../Data/downsampled_audios/\"\n",
    "audio_file_paths = glob.glob(multimedia_folder_path + \"*.wav\")"
   ]
  },
  {
   "cell_type": "markdown",
   "metadata": {},
   "source": [
    "Calcular la duración mínima y máxima de los audios"
   ]
  },
  {
   "cell_type": "code",
   "execution_count": 4,
   "metadata": {},
   "outputs": [
    {
     "name": "stderr",
     "output_type": "stream",
     "text": [
      "/Library/Python/3.7/site-packages/ipykernel_launcher.py:3: WavFileWarning: Chunk (non-data) not understood, skipping it.\n",
      "  This is separate from the ipykernel package so we can avoid doing imports until\n"
     ]
    },
    {
     "name": "stdout",
     "output_type": "stream",
     "text": [
      "Rango de duraciones de los audios: entre 2.19s y 5.09s, con media de 3.3 y desviación std de 0.4\n"
     ]
    }
   ],
   "source": [
    "duracion = []\n",
    "for audio in audio_file_paths:\n",
    "    freq, data = wavfile.read(audio)\n",
    "    duracion.append(len(data)/freq)\n",
    "duracion.sort()\n",
    "print(\"Rango de duraciones de los audios: entre {:.2f}s y {:.2f}s, con media de {:.1f} y desviación std de {:.1f}\".format(duracion[0], duracion[-1], np.mean(duracion), np.std(duracion)))"
   ]
  },
  {
   "cell_type": "markdown",
   "metadata": {},
   "source": [
    "## Abrir los archivos de MI ya calculados (usando MI_calculation.py)"
   ]
  },
  {
   "cell_type": "markdown",
   "metadata": {},
   "source": [
    "Abrir todos los archivos de Mutual Information y añadir sus valores a la varias variables adecuadas en base al **criterio que usaremos para el estudio**.\n",
    "En este caso utilizamos cara vs no-cara.\n",
    "\n",
    "Definimos mutual_information_sf que nos va a servir para las estadísticas y cumdata para los Kruskall-Wallis."
   ]
  },
  {
   "cell_type": "code",
   "execution_count": 36,
   "metadata": {},
   "outputs": [],
   "source": [
    "mutual_information_sf = {\"correct\": {}, \"incorrect\": {}, \"incorrect_n\": 0, \"correct_n\": 0}\n",
    "cumdata = {}\n",
    "\n",
    "for file in mi_file_paths:\n",
    "    mi = pr.MutualInformation()\n",
    "    mi.load(file)\n",
    "    if True:\n",
    "        if mi.audio_corr:\n",
    "            kw = \"correct\"\n",
    "        else:\n",
    "            kw = \"incorrect\"\n",
    "        kwn = kw + \"_n\"\n",
    "        mutual_information_sf[kwn] += 1\n",
    "        if mutual_information_sf[kw] == {}:\n",
    "            for band in bands:\n",
    "                mutual_information_sf[kw][band] = {}\n",
    "                for channel in channels:\n",
    "                    mutual_information_sf[kw][band][channel] = float(mi.mi[band][channel])\n",
    "        else:\n",
    "            for band in bands:\n",
    "                for channel, value in mi.mi[band].items():\n",
    "                    mutual_information_sf[kw][band][channel] += float(value)\n",
    "                    \n",
    "        if cumdata == {}:\n",
    "            for band in bands:\n",
    "                cumdata[band] = {}\n",
    "                for channel in channels:\n",
    "                    cumdata[band][channel] = {\"correct\": [], \"incorrect\": []}\n",
    "                \n",
    "        for band in bands:\n",
    "            for channel in channels:\n",
    "                if mi.audio_corr:\n",
    "                    cumdata[band][channel][\"correct\"].append(float(mi.mi[band][channel]))\n",
    "                else:\n",
    "                    cumdata[band][channel][\"incorrect\"].append(float(mi.mi[band][channel]))"
   ]
  },
  {
   "cell_type": "markdown",
   "metadata": {},
   "source": [
    "# Statistical analysis"
   ]
  },
  {
   "cell_type": "markdown",
   "metadata": {},
   "source": [
    "### Kolmogorov-Smirnov test"
   ]
  },
  {
   "cell_type": "code",
   "execution_count": 14,
   "metadata": {},
   "outputs": [],
   "source": [
    "ks_test = {}\n",
    "for band in bands:\n",
    "    ks_test[band] = {}\n",
    "    for channel in channels:\n",
    "        ks_test[band][channel] = {}\n",
    "        for state in [\"correct\", \"incorrect\"]:\n",
    "            ks_test[band][channel][state] = stats.kstest(cumdata[band][channel][state], 'norm')"
   ]
  },
  {
   "cell_type": "code",
   "execution_count": 17,
   "metadata": {},
   "outputs": [],
   "source": [
    "values = []\n",
    "for band in ks_test.keys():\n",
    "    for channel in ks_test[band].keys():\n",
    "        values.append(ks_test[band][channel][\"correct\"][0])"
   ]
  },
  {
   "cell_type": "code",
   "execution_count": 18,
   "metadata": {
    "scrolled": true
   },
   "outputs": [
    {
     "name": "stdout",
     "output_type": "stream",
     "text": [
      "$0.9992376560265298 \\pm 7.079813346328179e-08$\n"
     ]
    }
   ],
   "source": [
    "print(\"$\" + str(np.mean(values)) + \" \\\\pm \" + str(np.std(values)) + \"$\")"
   ]
  },
  {
   "cell_type": "markdown",
   "metadata": {},
   "source": [
    "#### Advanced stats for imshow"
   ]
  },
  {
   "cell_type": "code",
   "execution_count": null,
   "metadata": {},
   "outputs": [],
   "source": [
    "dimensions = np.array([len(kw_test[\"delta\"].keys()), len(kw_test.keys()), 2]) # Rows are channels and columns are bands\n",
    "kw_values = np.zeros(dimensions)"
   ]
  },
  {
   "cell_type": "code",
   "execution_count": null,
   "metadata": {},
   "outputs": [],
   "source": [
    "bands = list(kw_test.keys())\n",
    "channels = list(kw_test[\"delta\"].keys())"
   ]
  },
  {
   "cell_type": "code",
   "execution_count": null,
   "metadata": {},
   "outputs": [],
   "source": [
    "for band in range(len(ks_test.keys())):\n",
    "    for channel in range(len(ks_test[bands[band]].keys())):\n",
    "        kw_values[channel, band, :] = (np.array(kw_test[bands[band]][channels[channel]])[0], \\\n",
    "                                       np.array(kw_test[bands[band]][channels[channel]])[1])"
   ]
  },
  {
   "cell_type": "code",
   "execution_count": null,
   "metadata": {},
   "outputs": [],
   "source": [
    "logging.disable(logging.CRITICAL)"
   ]
  },
  {
   "cell_type": "code",
   "execution_count": null,
   "metadata": {},
   "outputs": [],
   "source": [
    "print(\"\\\\hline \\n & $\" + \"$ & $\".join(bands) + \"$ \\\\\\\\ \\n\\\\hline\")\n",
    "for channel in range(len(channels)):\n",
    "    print_values = []\n",
    "    for band in range(len(bands)):\n",
    "        #string_value = kw_values[channel,band,0]\n",
    "        #p = kw_values[channel, band, 1]\n",
    "        #if p >= 0.01:\n",
    "            #string_value = \"{:0.2f}\".format(p) #+ \"{\"\n",
    "        #elif p >= 0.001:\n",
    "            #string_value =  \"{:0.3f}\".format(p)#+ \"{\"\n",
    "        #else:\n",
    "            #string_value = \"\\\\bm{\" + \"<0.001\" + \"}\"\n",
    "            #string_value = \"{:0.1e}\".format(p).replace(\"e\", \"\\\\times 10^{\")\n",
    "        #print_values.append(string_value)\n",
    "        print_values.append(\"{:2.3f}\".format(string_value))\n",
    "    print(channels[channel] + \" & $\" + \"$ & $\".join(print_values) + \"$ \\\\\\\\\")\n"
   ]
  },
  {
   "cell_type": "markdown",
   "metadata": {},
   "source": [
    "#### Most notable ones"
   ]
  },
  {
   "cell_type": "code",
   "execution_count": null,
   "metadata": {},
   "outputs": [],
   "source": [
    "print(\"\\\\hline \\n Banda & Canal & H-valor & P-valor \\\\\\\\ \\n\\\\hline\")\n",
    "for band in range(len(bands)):\n",
    "    for channel in range(len(channels)):\n",
    "        p = kw_values[channel, band, 1]\n",
    "        if p <= 0.01:\n",
    "            if p <= 0.001:\n",
    "                string_value = \"<0.001\"\n",
    "            else:\n",
    "                string_value = \"{:0.3f}\".format(p)\n",
    "            print(\"$ \\\\\" + bands[band] + \" $ & \" + channels[channel] + \" & $\" + \\\n",
    "                 \"{:0.2f}\".format(kw_values[channel, band, 0]) + \\\n",
    "                 \"$ & $\" + string_value + \"$ \\\\\\\\\")"
   ]
  },
  {
   "cell_type": "markdown",
   "metadata": {},
   "source": [
    "## Kruskal-Wallis analysis"
   ]
  },
  {
   "cell_type": "code",
   "execution_count": 43,
   "metadata": {},
   "outputs": [
    {
     "name": "stdout",
     "output_type": "stream",
     "text": [
      "Bonferroni correction factor: 448\n",
      "Channel Pz in band delta is significant below 0.9 (8.7e-01) with H value 9.61\n"
     ]
    }
   ],
   "source": [
    "print(\"Bonferroni correction factor: {}\".format(len(bands)*len(channels)))\n",
    "alpha = 0.9\n",
    "saved = []\n",
    "fandp_kruskal = {}\n",
    "for band in bands:\n",
    "    fandp_kruskal[band] = {}\n",
    "    for channel in channels:\n",
    "        fandp_kruskal[band][channel] = list(stats.kruskal(cumdata[band][channel][\"correct\"], cumdata[band][channel][\"incorrect\"]))\n",
    "        fandp_kruskal[band][channel][1] *= len(bands)*len(channels)\n",
    "        if fandp_kruskal[band][channel][1] < alpha:\n",
    "            print(\"Channel {} in band {} is significant below {} ({:.1e}) with H value {:2.2f}\".format(channel, band, alpha, fandp_kruskal[band][channel][1], fandp_kruskal[band][channel][0]))\n",
    "            saved.append(\"{} {}\".format(band, channel))"
   ]
  },
  {
   "cell_type": "code",
   "execution_count": 25,
   "metadata": {},
   "outputs": [
    {
     "data": {
      "text/plain": [
       "['gamma_low Fpz', 'gamma_low Fz', 'gamma_high Fz']"
      ]
     },
     "execution_count": 25,
     "metadata": {},
     "output_type": "execute_result"
    }
   ],
   "source": [
    "saved"
   ]
  },
  {
   "cell_type": "markdown",
   "metadata": {},
   "source": [
    "## MI differences and relative differences"
   ]
  },
  {
   "cell_type": "code",
   "execution_count": 23,
   "metadata": {},
   "outputs": [],
   "source": [
    "with open(\"./MI_diff_rel.json\") as jsonfile:\n",
    "    mi = json.load(jsonfile)"
   ]
  },
  {
   "cell_type": "code",
   "execution_count": 33,
   "metadata": {},
   "outputs": [
    {
     "name": "stdout",
     "output_type": "stream",
     "text": [
      "gamma_low, Fpz, -2.5e-03, 8.0e-04, 25.02, 2.5e-04\n",
      "gamma_low, Fz, -3.0e-03, 9.5e-04, 28.03, 5.3e-05\n",
      "gamma_low, F2, -1.6e-03, 4.9e-04, 17.20, 1.5e-02\n",
      "gamma_high, Fpz, -2.6e-03, 8.2e-04, 19.50, 4.5e-03\n"
     ]
    }
   ],
   "source": [
    "for elem in saved:\n",
    "    band = elem.split(\" \")[0]\n",
    "    channel = elem.split(\" \")[1]\n",
    "    diff = mi[\"MI_diff\"][band][channel]\n",
    "    rel = mi[\"MI_rel\"][band][channel]\n",
    "    kw = fandp_kruskal[band][channel]\n",
    "    print(\"{}, {}, {:1.1e}, {:1.1e}, {:3.2f}, {:1.1e}\".format(band, channel, diff, rel, kw[0], kw[1]))"
   ]
  },
  {
   "cell_type": "code",
   "execution_count": 24,
   "metadata": {},
   "outputs": [
    {
     "name": "stdout",
     "output_type": "stream",
     "text": [
      "Fp1 & $-1.3 \\times 10^{-03}$ & $-3.8 \\times 10^{-04}$ & $6.8 \\times 10^{-07}$ & $2.1 \\times 10^{-05}$ & $6.3 \\times 10^{-05}$ & $5.5 \\times 10^{-05}$ & $8.1 \\times 10^{-05}$ \\\\\n",
      "Fpz & $-6.8 \\times 10^{-04}$ & $2.9 \\times 10^{-04}$ & $6.2 \\times 10^{-05}$ & $1.1 \\times 10^{-04}$ & $6.2 \\times 10^{-05}$ & $8.0 \\times 10^{-04}$ & $8.2 \\times 10^{-04}$ \\\\\n",
      "Fp2 & $-7.5 \\times 10^{-04}$ & $2.0 \\times 10^{-04}$ & $2.7 \\times 10^{-04}$ & $5.4 \\times 10^{-05}$ & $1.0 \\times 10^{-04}$ & $1.5 \\times 10^{-04}$ & $1.8 \\times 10^{-04}$ \\\\\n",
      "AF7 & $-2.1 \\times 10^{-03}$ & $-1.3 \\times 10^{-04}$ & $6.5 \\times 10^{-05}$ & $1.2 \\times 10^{-04}$ & $3.6 \\times 10^{-05}$ & $-1.1 \\times 10^{-05}$ & $6.9 \\times 10^{-06}$ \\\\\n",
      "AF3 & $-1.4 \\times 10^{-03}$ & $-1.9 \\times 10^{-04}$ & $1.2 \\times 10^{-04}$ & $5.0 \\times 10^{-05}$ & $-8.4 \\times 10^{-06}$ & $5.5 \\times 10^{-04}$ & $6.5 \\times 10^{-04}$ \\\\\n",
      "AF4 & $-2.0 \\times 10^{-04}$ & $-2.6 \\times 10^{-04}$ & $5.7 \\times 10^{-05}$ & $-6.9 \\times 10^{-05}$ & $8.7 \\times 10^{-05}$ & $4.5 \\times 10^{-04}$ & $4.4 \\times 10^{-04}$ \\\\\n",
      "AF8 & $-8.8 \\times 10^{-04}$ & $1.2 \\times 10^{-04}$ & $-8.3 \\times 10^{-05}$ & $-8.4 \\times 10^{-06}$ & $4.9 \\times 10^{-05}$ & $3.1 \\times 10^{-05}$ & $3.6 \\times 10^{-05}$ \\\\\n",
      "F7 & $-2.8 \\times 10^{-03}$ & $-1.2 \\times 10^{-05}$ & $5.0 \\times 10^{-04}$ & $2.6 \\times 10^{-05}$ & $1.1 \\times 10^{-05}$ & $-1.5 \\times 10^{-05}$ & $9.4 \\times 10^{-06}$ \\\\\n",
      "F5 & $-1.4 \\times 10^{-03}$ & $3.1 \\times 10^{-04}$ & $3.6 \\times 10^{-05}$ & $1.2 \\times 10^{-04}$ & $-1.0 \\times 10^{-04}$ & $2.6 \\times 10^{-05}$ & $-9.2 \\times 10^{-06}$ \\\\\n",
      "F3 & $6.2 \\times 10^{-04}$ & $-1.9 \\times 10^{-04}$ & $1.3 \\times 10^{-04}$ & $7.5 \\times 10^{-05}$ & $2.7 \\times 10^{-05}$ & $-2.4 \\times 10^{-05}$ & $-9.4 \\times 10^{-06}$ \\\\\n",
      "F1 & $-8.4 \\times 10^{-04}$ & $-7.4 \\times 10^{-05}$ & $2.7 \\times 10^{-04}$ & $2.8 \\times 10^{-06}$ & $3.1 \\times 10^{-05}$ & $3.6 \\times 10^{-04}$ & $3.7 \\times 10^{-04}$ \\\\\n",
      "Fz & $0.001 {}$ & $3.7 \\times 10^{-05}$ & $-1.4 \\times 10^{-04}$ & $1.2 \\times 10^{-04}$ & $2.3 \\times 10^{-05}$ & $9.5 \\times 10^{-04}$ & $9.9 \\times 10^{-04}$ \\\\\n",
      "F2 & $-4.8 \\times 10^{-04}$ & $-1.5 \\times 10^{-04}$ & $2.3 \\times 10^{-04}$ & $4.2 \\times 10^{-05}$ & $1.3 \\times 10^{-05}$ & $4.9 \\times 10^{-04}$ & $6.6 \\times 10^{-04}$ \\\\\n",
      "F4 & $-1.7 \\times 10^{-04}$ & $7.6 \\times 10^{-05}$ & $1.7 \\times 10^{-04}$ & $5.0 \\times 10^{-05}$ & $-3.6 \\times 10^{-05}$ & $6.5 \\times 10^{-05}$ & $1.5 \\times 10^{-04}$ \\\\\n",
      "F6 & $-2.2 \\times 10^{-03}$ & $3.1 \\times 10^{-05}$ & $3.3 \\times 10^{-04}$ & $1.1 \\times 10^{-06}$ & $5.0 \\times 10^{-05}$ & $6.8 \\times 10^{-09}$ & $6.1 \\times 10^{-05}$ \\\\\n",
      "F8 & $-7.6 \\times 10^{-04}$ & $-3.1 \\times 10^{-05}$ & $-1.6 \\times 10^{-04}$ & $-5.8 \\times 10^{-05}$ & $7.0 \\times 10^{-05}$ & $-1.4 \\times 10^{-05}$ & $3.3 \\times 10^{-05}$ \\\\\n",
      "FT7 & $-8.6 \\times 10^{-04}$ & $-5.0 \\times 10^{-04}$ & $-3.9 \\times 10^{-04}$ & $-1.6 \\times 10^{-04}$ & $-1.4 \\times 10^{-05}$ & $-1.7 \\times 10^{-05}$ & $2.2 \\times 10^{-05}$ \\\\\n",
      "FC5 & $-1.1 \\times 10^{-03}$ & $-1.1 \\times 10^{-04}$ & $2.4 \\times 10^{-06}$ & $1.3 \\times 10^{-05}$ & $2.9 \\times 10^{-05}$ & $7.7 \\times 10^{-05}$ & $5.2 \\times 10^{-05}$ \\\\\n",
      "FC3 & $-5.7 \\times 10^{-04}$ & $-4.1 \\times 10^{-05}$ & $1.3 \\times 10^{-05}$ & $6.3 \\times 10^{-05}$ & $4.4 \\times 10^{-05}$ & $-1.1 \\times 10^{-05}$ & $2.6 \\times 10^{-05}$ \\\\\n",
      "FC1 & $0.001 {}$ & $-2.5 \\times 10^{-04}$ & $4.3 \\times 10^{-04}$ & $5.2 \\times 10^{-05}$ & $-2.0 \\times 10^{-05}$ & $2.9 \\times 10^{-06}$ & $7.6 \\times 10^{-06}$ \\\\\n",
      "FCz & $6.1 \\times 10^{-04}$ & $-1.5 \\times 10^{-04}$ & $3.8 \\times 10^{-04}$ & $2.2 \\times 10^{-05}$ & $-7.5 \\times 10^{-05}$ & $-1.7 \\times 10^{-06}$ & $8.5 \\times 10^{-05}$ \\\\\n",
      "FC2 & $1.5 \\times 10^{-04}$ & $-1.0 \\times 10^{-04}$ & $4.3 \\times 10^{-04}$ & $-5.8 \\times 10^{-05}$ & $-2.2 \\times 10^{-06}$ & $-2.5 \\times 10^{-07}$ & $3.4 \\times 10^{-05}$ \\\\\n",
      "FC4 & $4.9 \\times 10^{-04}$ & $1.1 \\times 10^{-05}$ & $8.6 \\times 10^{-05}$ & $-7.3 \\times 10^{-05}$ & $7.6 \\times 10^{-05}$ & $-9.4 \\times 10^{-06}$ & $5.9 \\times 10^{-05}$ \\\\\n",
      "FC6 & $-2.0 \\times 10^{-03}$ & $2.4 \\times 10^{-04}$ & $-8.0 \\times 10^{-05}$ & $-8.7 \\times 10^{-06}$ & $-1.9 \\times 10^{-05}$ & $-1.1 \\times 10^{-05}$ & $3.0 \\times 10^{-05}$ \\\\\n",
      "FT8 & $-1.6 \\times 10^{-03}$ & $6.9 \\times 10^{-04}$ & $-3.4 \\times 10^{-04}$ & $-6.8 \\times 10^{-05}$ & $-2.7 \\times 10^{-05}$ & $2.4 \\times 10^{-05}$ & $-1.4 \\times 10^{-05}$ \\\\\n",
      "T7 & $-7.9 \\times 10^{-04}$ & $1.2 \\times 10^{-04}$ & $3.1 \\times 10^{-05}$ & $-6.0 \\times 10^{-05}$ & $-2.2 \\times 10^{-05}$ & $-2.9 \\times 10^{-05}$ & $4.0 \\times 10^{-05}$ \\\\\n",
      "C5 & $-7.8 \\times 10^{-04}$ & $-3.1 \\times 10^{-04}$ & $-2.2 \\times 10^{-04}$ & $-1.6 \\times 10^{-05}$ & $2.5 \\times 10^{-05}$ & $1.0 \\times 10^{-05}$ & $5.9 \\times 10^{-05}$ \\\\\n",
      "C3 & $4.7 \\times 10^{-04}$ & $-3.9 \\times 10^{-04}$ & $-5.6 \\times 10^{-05}$ & $9.6 \\times 10^{-06}$ & $-3.0 \\times 10^{-05}$ & $-3.1 \\times 10^{-05}$ & $1.2 \\times 10^{-05}$ \\\\\n",
      "C1 & $8.8 \\times 10^{-04}$ & $9.6 \\times 10^{-05}$ & $4.1 \\times 10^{-04}$ & $3.1 \\times 10^{-06}$ & $-1.8 \\times 10^{-05}$ & $1.2 \\times 10^{-05}$ & $-1.6 \\times 10^{-06}$ \\\\\n",
      "Cz & $3.4 \\times 10^{-04}$ & $-6.0 \\times 10^{-04}$ & $1.6 \\times 10^{-04}$ & $-7.3 \\times 10^{-05}$ & $6.2 \\times 10^{-05}$ & $-9.5 \\times 10^{-07}$ & $4.8 \\times 10^{-05}$ \\\\\n",
      "C2 & $1.3 \\times 10^{-04}$ & $-2.1 \\times 10^{-04}$ & $3.5 \\times 10^{-05}$ & $-5.1 \\times 10^{-05}$ & $5.2 \\times 10^{-05}$ & $3.3 \\times 10^{-05}$ & $9.9 \\times 10^{-05}$ \\\\\n",
      "C4 & $7.6 \\times 10^{-04}$ & $4.0 \\times 10^{-04}$ & $-2.2 \\times 10^{-05}$ & $1.5 \\times 10^{-05}$ & $2.9 \\times 10^{-05}$ & $1.5 \\times 10^{-05}$ & $1.6 \\times 10^{-05}$ \\\\\n",
      "C6 & $8.5 \\times 10^{-05}$ & $4.6 \\times 10^{-05}$ & $-2.6 \\times 10^{-04}$ & $-2.8 \\times 10^{-05}$ & $5.5 \\times 10^{-05}$ & $7.4 \\times 10^{-05}$ & $1.5 \\times 10^{-04}$ \\\\\n",
      "T8 & $0.001 {}$ & $2.9 \\times 10^{-04}$ & $3.8 \\times 10^{-05}$ & $-5.4 \\times 10^{-05}$ & $1.5 \\times 10^{-04}$ & $1.1 \\times 10^{-04}$ & $1.3 \\times 10^{-04}$ \\\\\n",
      "TP7 & $3.8 \\times 10^{-04}$ & $-2.1 \\times 10^{-04}$ & $-1.1 \\times 10^{-04}$ & $-4.2 \\times 10^{-05}$ & $-1.5 \\times 10^{-05}$ & $-4.3 \\times 10^{-05}$ & $-2.0 \\times 10^{-05}$ \\\\\n",
      "CP5 & $2.6 \\times 10^{-04}$ & $-3.1 \\times 10^{-04}$ & $-1.3 \\times 10^{-04}$ & $1.3 \\times 10^{-05}$ & $-8.9 \\times 10^{-06}$ & $-6.7 \\times 10^{-05}$ & $5.2 \\times 10^{-05}$ \\\\\n",
      "CP3 & $8.5 \\times 10^{-04}$ & $-4.8 \\times 10^{-04}$ & $1.5 \\times 10^{-04}$ & $-3.5 \\times 10^{-05}$ & $5.6 \\times 10^{-05}$ & $-3.9 \\times 10^{-05}$ & $4.3 \\times 10^{-05}$ \\\\\n",
      "CP1 & $3.7 \\times 10^{-04}$ & $-5.8 \\times 10^{-04}$ & $-1.0 \\times 10^{-04}$ & $-8.0 \\times 10^{-05}$ & $9.3 \\times 10^{-05}$ & $-1.3 \\times 10^{-05}$ & $-1.9 \\times 10^{-06}$ \\\\\n",
      "CPz & $0.001 {}$ & $-5.7 \\times 10^{-04}$ & $-4.0 \\times 10^{-05}$ & $-1.9 \\times 10^{-05}$ & $1.8 \\times 10^{-04}$ & $2.2 \\times 10^{-05}$ & $-4.1 \\times 10^{-05}$ \\\\\n",
      "CP2 & $9.9 \\times 10^{-04}$ & $3.5 \\times 10^{-04}$ & $-7.2 \\times 10^{-06}$ & $4.1 \\times 10^{-05}$ & $1.5 \\times 10^{-04}$ & $-8.0 \\times 10^{-06}$ & $-3.0 \\times 10^{-05}$ \\\\\n",
      "CP4 & $8.9 \\times 10^{-04}$ & $1.1 \\times 10^{-04}$ & $-1.3 \\times 10^{-04}$ & $-4.5 \\times 10^{-05}$ & $8.7 \\times 10^{-05}$ & $4.9 \\times 10^{-05}$ & $5.4 \\times 10^{-05}$ \\\\\n",
      "CP6 & $0.002 {}$ & $7.3 \\times 10^{-05}$ & $-5.1 \\times 10^{-04}$ & $-8.9 \\times 10^{-05}$ & $1.1 \\times 10^{-04}$ & $1.2 \\times 10^{-05}$ & $2.7 \\times 10^{-05}$ \\\\\n",
      "TP8 & $9.6 \\times 10^{-04}$ & $-2.9 \\times 10^{-04}$ & $-3.8 \\times 10^{-04}$ & $-8.5 \\times 10^{-05}$ & $9.9 \\times 10^{-06}$ & $2.1 \\times 10^{-05}$ & $5.3 \\times 10^{-05}$ \\\\\n",
      "P7 & $-1.8 \\times 10^{-03}$ & $-8.1 \\times 10^{-05}$ & $9.6 \\times 10^{-05}$ & $3.5 \\times 10^{-05}$ & $-2.3 \\times 10^{-07}$ & $-1.4 \\times 10^{-05}$ & $7.6 \\times 10^{-05}$ \\\\\n",
      "P5 & $0.001 {}$ & $-9.4 \\times 10^{-05}$ & $-2.3 \\times 10^{-04}$ & $-3.2 \\times 10^{-05}$ & $5.2 \\times 10^{-05}$ & $1.6 \\times 10^{-05}$ & $5.3 \\times 10^{-05}$ \\\\\n",
      "P3 & $6.7 \\times 10^{-04}$ & $3.2 \\times 10^{-05}$ & $-2.3 \\times 10^{-04}$ & $-9.0 \\times 10^{-05}$ & $1.3 \\times 10^{-04}$ & $6.2 \\times 10^{-06}$ & $2.6 \\times 10^{-05}$ \\\\\n",
      "P1 & $2.2 \\times 10^{-04}$ & $2.2 \\times 10^{-04}$ & $-2.1 \\times 10^{-04}$ & $-4.8 \\times 10^{-05}$ & $3.4 \\times 10^{-05}$ & $-2.3 \\times 10^{-06}$ & $2.1 \\times 10^{-05}$ \\\\\n",
      "Pz & $7.6 \\times 10^{-04}$ & $-1.3 \\times 10^{-04}$ & $-1.1 \\times 10^{-04}$ & $-9.4 \\times 10^{-05}$ & $1.5 \\times 10^{-04}$ & $3.2 \\times 10^{-05}$ & $2.1 \\times 10^{-06}$ \\\\\n",
      "P2 & $0.002 {}$ & $-1.2 \\times 10^{-04}$ & $-4.2 \\times 10^{-04}$ & $-6.8 \\times 10^{-05}$ & $1.8 \\times 10^{-04}$ & $1.7 \\times 10^{-05}$ & $7.8 \\times 10^{-05}$ \\\\\n",
      "P4 & $0.001 {}$ & $-3.0 \\times 10^{-04}$ & $-2.2 \\times 10^{-04}$ & $-7.4 \\times 10^{-05}$ & $1.5 \\times 10^{-05}$ & $2.0 \\times 10^{-05}$ & $4.6 \\times 10^{-05}$ \\\\\n",
      "P6 & $8.8 \\times 10^{-04}$ & $-5.7 \\times 10^{-04}$ & $-1.3 \\times 10^{-04}$ & $-6.5 \\times 10^{-05}$ & $4.5 \\times 10^{-05}$ & $6.4 \\times 10^{-06}$ & $-7.4 \\times 10^{-06}$ \\\\\n",
      "P8 & $2.3 \\times 10^{-05}$ & $7.2 \\times 10^{-05}$ & $-5.0 \\times 10^{-04}$ & $-6.0 \\times 10^{-05}$ & $5.5 \\times 10^{-05}$ & $-2.0 \\times 10^{-05}$ & $4.0 \\times 10^{-05}$ \\\\\n",
      "PO7 & $-1.5 \\times 10^{-03}$ & $2.0 \\times 10^{-04}$ & $1.5 \\times 10^{-04}$ & $-3.8 \\times 10^{-05}$ & $-1.4 \\times 10^{-05}$ & $-1.5 \\times 10^{-06}$ & $6.1 \\times 10^{-06}$ \\\\\n",
      "PO3 & $9.4 \\times 10^{-04}$ & $-1.5 \\times 10^{-04}$ & $-3.1 \\times 10^{-04}$ & $-7.8 \\times 10^{-05}$ & $1.1 \\times 10^{-04}$ & $1.3 \\times 10^{-05}$ & $9.7 \\times 10^{-06}$ \\\\\n",
      "PO4 & $9.2 \\times 10^{-04}$ & $-3.4 \\times 10^{-04}$ & $-4.4 \\times 10^{-04}$ & $7.7 \\times 10^{-06}$ & $-1.3 \\times 10^{-05}$ & $-1.4 \\times 10^{-06}$ & $-1.1 \\times 10^{-05}$ \\\\\n",
      "PO8 & $-8.0 \\times 10^{-04}$ & $-3.8 \\times 10^{-04}$ & $-3.1 \\times 10^{-04}$ & $1.5 \\times 10^{-05}$ & $3.6 \\times 10^{-05}$ & $3.8 \\times 10^{-05}$ & $5.8 \\times 10^{-06}$ \\\\\n",
      "O1 & $-1.7 \\times 10^{-03}$ & $1.2 \\times 10^{-04}$ & $-1.8 \\times 10^{-04}$ & $-8.4 \\times 10^{-05}$ & $5.0 \\times 10^{-05}$ & $5.2 \\times 10^{-06}$ & $1.4 \\times 10^{-05}$ \\\\\n",
      "Oz & $-7.2 \\times 10^{-04}$ & $3.1 \\times 10^{-05}$ & $-4.3 \\times 10^{-04}$ & $-3.1 \\times 10^{-05}$ & $2.6 \\times 10^{-04}$ & $-5.1 \\times 10^{-07}$ & $3.3 \\times 10^{-05}$ \\\\\n",
      "O2 & $-1.3 \\times 10^{-03}$ & $-2.2 \\times 10^{-04}$ & $-5.8 \\times 10^{-04}$ & $-4.4 \\times 10^{-06}$ & $2.9 \\times 10^{-05}$ & $-1.6 \\times 10^{-05}$ & $5.6 \\times 10^{-05}$ \\\\\n",
      "HEOG+ & $-2.4 \\times 10^{-03}$ & $-9.2 \\times 10^{-04}$ & $-3.6 \\times 10^{-04}$ & $1.5 \\times 10^{-05}$ & $2.0 \\times 10^{-05}$ & $3.2 \\times 10^{-05}$ & $3.9 \\times 10^{-05}$ \\\\\n",
      "HEOG & $-1.4 \\times 10^{-03}$ & $-4.3 \\times 10^{-04}$ & $-4.9 \\times 10^{-04}$ & $-9.0 \\times 10^{-05}$ & $6.6 \\times 10^{-05}$ & $3.5 \\times 10^{-05}$ & $4.4 \\times 10^{-05}$ \\\\\n",
      "VEOG+ & $-4.6 \\times 10^{-04}$ & $4.1 \\times 10^{-04}$ & $2.9 \\times 10^{-04}$ & $2.8 \\times 10^{-04}$ & $1.1 \\times 10^{-04}$ & $-1.0 \\times 10^{-06}$ & $-6.0 \\times 10^{-06}$ \\\\\n",
      "VEOG & $9.4 \\times 10^{-04}$ & $-6.4 \\times 10^{-04}$ & $-4.2 \\times 10^{-04}$ & $-1.4 \\times 10^{-06}$ & $-2.3 \\times 10^{-05}$ & $-3.9 \\times 10^{-05}$ & $4.0 \\times 10^{-05}$ \\\\\n",
      "M1 & $-2.1 \\times 10^{-03}$ & $-1.9 \\times 10^{-04}$ & $-8.2 \\times 10^{-04}$ & $-4.7 \\times 10^{-06}$ & $4.2 \\times 10^{-05}$ & $1.3 \\times 10^{-05}$ & $1.9 \\times 10^{-05}$ \\\\\n"
     ]
    }
   ],
   "source": [
    "#print(\"\\\\hline \\n & $\" + \"$ & $\".join(bands) + \"$ \\\\\\\\ \\n\\\\hline\")\n",
    "for channel in mi[\"MI_rel\"][\"delta\"].keys():\n",
    "    print_values = []\n",
    "    for band in freq_ranges.keys():\n",
    "        value = mi[\"MI_rel\"][band][channel]\n",
    "        if value >= 0.001:\n",
    "            string_value = \"{:0.3f}\".format(value) + \" {\"\n",
    "        else:\n",
    "            string_value = \"{:0.1e}\".format(value).replace(\"e\", \" \\\\times 10^{\")\n",
    "\n",
    "        print_values.append(string_value)\n",
    "    print(channel + \" & $\" + \"}$ & $\".join(print_values) + \"}$ \\\\\\\\\")"
   ]
  },
  {
   "cell_type": "markdown",
   "metadata": {},
   "source": [
    "44.42% son negativos"
   ]
  },
  {
   "cell_type": "markdown",
   "metadata": {},
   "source": [
    "## MI Changes through bands"
   ]
  },
  {
   "cell_type": "code",
   "execution_count": null,
   "metadata": {},
   "outputs": [],
   "source": [
    "for key in [\"face\", \"scrambled\"]:\n",
    "    for band in bands:\n",
    "        for channel in channels:\n",
    "            try:\n",
    "                mutual_information_sf[key][band][channel] = list(map(float, mutual_information_sf[key][band][channel]))\n",
    "            except ValueError:\n",
    "                print(\"A\")"
   ]
  },
  {
   "cell_type": "code",
   "execution_count": null,
   "metadata": {},
   "outputs": [],
   "source": [
    "mutual_information_sf.keys()"
   ]
  },
  {
   "cell_type": "code",
   "execution_count": null,
   "metadata": {},
   "outputs": [],
   "source": [
    "MI_diff = {}\n",
    "MI_rel = {}\n",
    "for band in mutual_information_sf[\"face\"].keys():\n",
    "    MI_diff[band] = {}\n",
    "    MI_rel[band] = {}\n",
    "    for channel, value in mutual_information_sf[\"face\"][band].items():\n",
    "        MI_diff[band][channel] = value - \\\n",
    "            mutual_information_sf[\"scrambled\"][band][channel]\n",
    "        MI_rel[band][channel] = MI_diff[band][channel] / value"
   ]
  },
  {
   "cell_type": "code",
   "execution_count": null,
   "metadata": {},
   "outputs": [],
   "source": [
    "bands = list(freq_ranges.keys())\n",
    "channels = list(mi[\"MI_diff\"][\"delta\"].keys())"
   ]
  },
  {
   "cell_type": "code",
   "execution_count": null,
   "metadata": {},
   "outputs": [],
   "source": [
    "means = {}\n",
    "std = {}\n",
    "valuesd = {}\n",
    "for band in bands:\n",
    "    values = []\n",
    "    valuesd[band] = []\n",
    "    for channel in channels:\n",
    "        valuesd[band].append(mi[\"MI_diff\"][band][channel])\n",
    "        values.append(np.abs(mi[\"MI_diff\"][band][channel]))\n",
    "    means[band] = np.mean(values)\n",
    "    std[band] = np.std(values)"
   ]
  },
  {
   "cell_type": "code",
   "execution_count": null,
   "metadata": {},
   "outputs": [],
   "source": [
    "y = list(means.values())\n",
    "ticks = list(means.keys())"
   ]
  },
  {
   "cell_type": "code",
   "execution_count": null,
   "metadata": {},
   "outputs": [],
   "source": [
    "xx = []\n",
    "for item in valuesd:\n",
    "    xx.append(item)"
   ]
  },
  {
   "cell_type": "code",
   "execution_count": null,
   "metadata": {},
   "outputs": [],
   "source": [
    "fig, ax = plt.subplots(figsize=(16,12))\n",
    "ax.boxplot(valuesd.values())\n",
    "yticks = ax.get_yticklabels()\n",
    "ax.set_xticklabels([r\"$\\delta$\",r\"$\\theta_{low}$\", r\"$\\theta_{high}$\", r\"$\\alpha$\", r\"$\\beta$\", r\"$\\gamma$\", r\"Altas frec.\" ], fontsize = 20)\n",
    "ax.set_ylabel(r\"$\\Delta$\", fontsize = 30)\n",
    "ax.set_xlabel(r\"Bandas de frecuencia\", fontsize = 30)\n",
    "ax.set_title(r\"Comparación de los rangos de valores de $\\Delta$ en las distintas bandas\", fontsize = 25)\n",
    "#ax.set_yticklabels(list(yticks), fontsize=30)"
   ]
  }
 ],
 "metadata": {
  "kernelspec": {
   "display_name": "Python 3",
   "language": "python",
   "name": "python3"
  },
  "language_info": {
   "codemirror_mode": {
    "name": "ipython",
    "version": 3
   },
   "file_extension": ".py",
   "mimetype": "text/x-python",
   "name": "python",
   "nbconvert_exporter": "python",
   "pygments_lexer": "ipython3",
   "version": "3.7.3"
  }
 },
 "nbformat": 4,
 "nbformat_minor": 4
}
