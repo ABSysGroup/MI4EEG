{
 "cells": [
  {
   "cell_type": "markdown",
   "metadata": {},
   "source": [
    "# Statistical analysis of Mutual Information calculations\n"
   ]
  },
  {
   "cell_type": "markdown",
   "metadata": {},
   "source": [
    "### Prepare for the statistical analyses"
   ]
  },
  {
   "cell_type": "markdown",
   "metadata": {},
   "source": [
    "##### Import the modules we're going to use"
   ]
  },
  {
   "cell_type": "code",
   "execution_count": 1,
   "metadata": {},
   "outputs": [],
   "source": [
    "# File handling\n",
    "import os\n",
    "import json\n",
    "\n",
    "# Calculations\n",
    "import numpy as np\n",
    "import scipy.stats as stats\n",
    "import scikit_posthocs as ph\n",
    "\n",
    "# Plotting\n",
    "import matplotlib as mpl\n",
    "import matplotlib.pyplot as plt"
   ]
  },
  {
   "cell_type": "markdown",
   "metadata": {},
   "source": [
    "##### Constants and useful values"
   ]
  },
  {
   "cell_type": "code",
   "execution_count": 2,
   "metadata": {},
   "outputs": [],
   "source": [
    "freq_ranges = {\"delta\": (1, 3), \"theta_low\": (3, 5), \"theta_high\": (5, 7),\n",
    "               \"alpha\": (7, 12), \"beta\": (12, 30), \"gamma_low\": (30, 50), \"gamma_high\": (50, 100)}\n",
    "bands = list(freq_ranges.keys())\n",
    "freq_limits = [1, 3, 5, 7, 12, 30, 50, 100]\n",
    "channels = ['Fp1', 'Fpz', 'Fp2', 'AF7', 'AF3', 'AF4', 'AF8', 'F7', 'F5', 'F3', 'F1', 'Fz', 'F2', 'F4', 'F6', 'F8', 'FT7', 'FC5', 'FC3', 'FC1', 'FCz', 'FC2', 'FC4', 'FC6', 'FT8', 'T7', 'C5', 'C3', 'C1', 'Cz', 'C2', 'C4', 'C6', 'T8', 'TP7', 'CP5', 'CP3', 'CP1', 'CPz', 'CP2', 'CP4', 'CP6', 'TP8', 'P7', 'P5', 'P3', 'P1', 'Pz', 'P2', 'P4', 'P6', 'P8', 'PO7', 'PO3', 'PO4', 'PO8', 'O1', 'Oz', 'O2', 'HEOG+', 'HEOG', 'VEOG+', 'VEOG', 'M1']\n",
    "phs_lims = np.linspace(-np.pi, np.pi, 5)"
   ]
  },
  {
   "cell_type": "markdown",
   "metadata": {},
   "source": [
    "##### Load the data from the created `.json` file"
   ]
  },
  {
   "cell_type": "code",
   "execution_count": 3,
   "metadata": {},
   "outputs": [],
   "source": [
    "file_path = \"./results27sept2021_normd.json\"\n",
    "with open(file_path, \"r\") as jsonfile:\n",
    "    data = json.load(jsonfile)"
   ]
  },
  {
   "cell_type": "markdown",
   "metadata": {},
   "source": [
    "Let's check that the data has loaded correctly"
   ]
  },
  {
   "cell_type": "code",
   "execution_count": 4,
   "metadata": {},
   "outputs": [
    {
     "name": "stdout",
     "output_type": "stream",
     "text": [
      "The data loaded is of type <class 'list'>.\n",
      "The third part of the data, which should be empty, has a length of 0\n"
     ]
    }
   ],
   "source": [
    "print(f\"\"\"The data loaded is of type {type(data)}.\n",
    "The third part of the data, which should be empty, has a length of {len(data[2])}\"\"\")"
   ]
  },
  {
   "cell_type": "markdown",
   "metadata": {},
   "source": [
    "Assign trials under different conditions to different variables. Free the space of the initial data matrix."
   ]
  },
  {
   "cell_type": "code",
   "execution_count": 5,
   "metadata": {},
   "outputs": [
    {
     "name": "stdout",
     "output_type": "stream",
     "text": [
      "The face list has 7 components: dict_keys(['delta', 'theta_low', 'theta_high', 'alpha', 'beta', 'gamma_low', 'gamma_high'])\n"
     ]
    }
   ],
   "source": [
    "face = data[0]\n",
    "scrambled = data[1]\n",
    "del(data)\n",
    "print(f\"The face list has {len(face)} components: {face.keys()}\")"
   ]
  },
  {
   "cell_type": "markdown",
   "metadata": {},
   "source": [
    "### Statistical analyses\n",
    "For the analyses we are going to first start with a Kruskal-Wallis (KW) test between the distributions for each band, for each channel between the two conditions."
   ]
  },
  {
   "cell_type": "markdown",
   "metadata": {},
   "source": [
    "##### KW test\n",
    "The commented pha lines are the post-hoc Wilcoxon analysis (with Bonferroni p-adjusting)"
   ]
  },
  {
   "cell_type": "code",
   "execution_count": 6,
   "metadata": {
    "scrolled": true
   },
   "outputs": [],
   "source": [
    "H = np.empty([len(bands), len(channels)])\n",
    "p = np.empty([len(bands), len(channels)])\n",
    "pha = np.empty([len(bands), len(channels)])\n",
    "for i, band in enumerate(bands):\n",
    "    for j, channel in enumerate(channels):\n",
    "        kw = stats.kruskal(face[band][channel], scrambled[band][channel])\n",
    "        H[i,j], p[i,j] = kw\n",
    "        #pha[i,j] = ph.posthoc_wilcoxon([face[band][channel][:2702], scrambled[band][channel]], p_adjust='bonferroni')[1][2]"
   ]
  },
  {
   "cell_type": "code",
   "execution_count": 7,
   "metadata": {},
   "outputs": [
    {
     "data": {
      "text/plain": [
       "Text(0, 0.5, 'Log(p)')"
      ]
     },
     "execution_count": 7,
     "metadata": {},
     "output_type": "execute_result"
    },
    {
     "data": {
      "image/png": "[encoded data removed]",
      "text/plain": [
       "<Figure size 1728x288 with 2 Axes>"
      ]
     },
     "metadata": {
      "needs_background": "light"
     },
     "output_type": "display_data"
    }
   ],
   "source": [
    "plt.figure(figsize=(24, 4))\n",
    "plt.imshow(np.log(p))\n",
    "plt.rcParams.update({'font.size': 22})\n",
    "plt.xlabel(\"Channel index\")\n",
    "plt.ylabel(\"Band index\")\n",
    "cbar = plt.colorbar()\n",
    "cbar.ax.set_ylabel('Log(p)', rotation=90)"
   ]
  },
  {
   "cell_type": "markdown",
   "metadata": {},
   "source": [
    "Make a simple Bonferroni p-adjust"
   ]
  },
  {
   "cell_type": "code",
   "execution_count": 8,
   "metadata": {},
   "outputs": [],
   "source": [
    "p *= len(channels)*len(bands)\n",
    "p[p>1] = 1"
   ]
  },
  {
   "cell_type": "code",
   "execution_count": 9,
   "metadata": {},
   "outputs": [],
   "source": [
    "rows, cols = np.where(p < 0.01)"
   ]
  },
  {
   "cell_type": "code",
   "execution_count": 10,
   "metadata": {},
   "outputs": [
    {
     "name": "stdout",
     "output_type": "stream",
     "text": [
      "gamma_low band | Channel Fpz | P-value of 7.21e-16\n",
      "gamma_low band | Channel AF3 | P-value of 1.54e-03\n",
      "gamma_low band | Channel AF4 | P-value of 2.59e-08\n",
      "gamma_low band | Channel F1 | P-value of 8.48e-03\n",
      "gamma_low band | Channel Fz | P-value of 2.64e-08\n",
      "gamma_low band | Channel F2 | P-value of 3.56e-06\n",
      "gamma_high band | Channel Fpz | P-value of 8.46e-12\n",
      "gamma_high band | Channel AF3 | P-value of 1.00e+00\n",
      "gamma_high band | Channel AF4 | P-value of 2.43e-08\n",
      "gamma_high band | Channel F1 | P-value of 2.34e-04\n",
      "gamma_high band | Channel Fz | P-value of 1.75e-08\n",
      "gamma_high band | Channel F2 | P-value of 6.70e-05\n"
     ]
    }
   ],
   "source": [
    "for row in set(rows):\n",
    "    for col in set(cols):\n",
    "        print(f\"{bands[row]} band | Channel {channels[col]} | P-value of {p[row, col]:.2e}\")"
   ]
  },
  {
   "cell_type": "markdown",
   "metadata": {},
   "source": [
    "As one can see the results are the same/similar to the ones we obtained when doing the first analysis. Note that the channel AF3 is non-significant for the gamme high band. Also, regarding how we split the gamma band in two different regimes: we gotta address that!!!!"
   ]
  }
 ],
 "metadata": {
  "kernelspec": {
   "display_name": "Python 3",
   "language": "python",
   "name": "python3"
  },
  "language_info": {
   "codemirror_mode": {
    "name": "ipython",
    "version": 3
   },
   "file_extension": ".py",
   "mimetype": "text/x-python",
   "name": "python",
   "nbconvert_exporter": "python",
   "pygments_lexer": "ipython3",
   "version": "3.8.10"
  }
 },
 "nbformat": 4,
 "nbformat_minor": 4
}
