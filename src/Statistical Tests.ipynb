{
 "cells": [
  {
   "cell_type": "markdown",
   "metadata": {},
   "source": [
    "# Cuaderno de cálculos y gráficas"
   ]
  },
  {
   "cell_type": "code",
   "execution_count": 1,
   "metadata": {},
   "outputs": [
    {
     "name": "stderr",
     "output_type": "stream",
     "text": [
      " 2020-11-13 15:07:59,099 - DEBUG - Define classes and functions.\n",
      " 2020-11-13 15:07:59,102 - DEBUG - Loaded backend module://ipykernel.pylab.backend_inline version unknown.\n"
     ]
    }
   ],
   "source": [
    "# Import modules\n",
    "import ipywidgets\n",
    "import numpy as np\n",
    "import pandas as pd\n",
    "import importlib\n",
    "import logging\n",
    "import glob\n",
    "import json\n",
    "import os\n",
    "\n",
    "# All the stuffs for the processing of MI\n",
    "import processing as pr\n",
    "\n",
    "# Plotting\n",
    "import matplotlib as mpl\n",
    "import matplotlib.pyplot as plt\n",
    "%matplotlib inline\n",
    "\n",
    "# Signal processing\n",
    "import scipy.signal as snl\n",
    "from scipy.io import wavfile\n",
    "import scipy.stats as stats\n",
    "\n",
    "# Logging\n",
    "import logging\n",
    "logging.disable(logging.CRITICAL)"
   ]
  },
  {
   "cell_type": "markdown",
   "metadata": {},
   "source": [
    "### File paths"
   ]
  },
  {
   "cell_type": "code",
   "execution_count": 2,
   "metadata": {},
   "outputs": [],
   "source": [
    "mi_folder = \"../Data/mutualinfo/\"\n",
    "mi_files = glob.glob(mi_folder + \"ds1/*.mi\")\n",
    "mi_files.sort()\n",
    "ds8_files = glob.glob(mi_folder + \"ds8/*.mi\")\n",
    "ds8_files.sort()"
   ]
  },
  {
   "cell_type": "markdown",
   "metadata": {},
   "source": [
    "To open the files with the MI data already averaged\n",
    "```\n",
    "with open(\"MI_rel.dat\", \"r\") as f:\n",
    "    line = f.readline()\n",
    "    MI_rel = eval(line)\n",
    "with open(\"MI_rel_ds8.dat\", \"r\") as f:\n",
    "    line = f.readline()\n",
    "    MI_rel_ds8 = eval(line)\n",
    "    \n",
    "bands = list(MI_rel.keys())\n",
    "channels = list(MI_rel[\"delta\"].keys())\n",
    "```"
   ]
  },
  {
   "cell_type": "markdown",
   "metadata": {},
   "source": [
    "### Get MI info from files\n",
    "We've already calculated all the MI values. Now we will take those values and do some statistical calculations on them."
   ]
  },
  {
   "cell_type": "code",
   "execution_count": 3,
   "metadata": {},
   "outputs": [],
   "source": [
    "importlib.reload(pr)\n",
    "cumdata = {}\n",
    "total = len(mi_files)\n",
    "current = 0\n",
    "for file in mi_files:\n",
    "    data = pr.MutualInformation()\n",
    "    data.load(file_path = file)\n",
    "    # name = os.path.split(file)[1].split(\".\")[0] + \"_ds8.mi\n",
    "    # folder = os.path.split(os.path.split(file)[0])[0] + \"/ds8/\"\n",
    "    # path = folder + name\n",
    "    # datads8 = pr.MutualInformation(1,2,3,4,5,True,path)\n",
    "    \n",
    "    try:\n",
    "        bands\n",
    "    except NameError:\n",
    "        bands = list(data.mi.keys())\n",
    "        channels = list(data.mi[bands[0]].keys()) \n",
    "        \n",
    "    if cumdata == {}:\n",
    "        for band in bands:\n",
    "            cumdata[band] = {}\n",
    "            for channel in channels:\n",
    "                cumdata[band][channel] = {\"face\": [], \"noface\": []}\n",
    "\n",
    "    for band in bands:\n",
    "        for channel in channels:\n",
    "            if data.face_nonscrambled:\n",
    "                cumdata[band][channel][\"face\"].append(data.mi[band][channel])\n",
    "            else:\n",
    "                cumdata[band][channel][\"noface\"].append(data.mi[band][channel])\n",
    "    current += 1\n",
    "    if current%1000 == 0 or current == total:\n",
    "        print(\"Gone through \" + str(current/total *100))"
   ]
  },
  {
   "cell_type": "markdown",
   "metadata": {},
   "source": [
    "### Prepare parametric and non-parametric tests (one way ANOVA and Kruskal-Wallis ANOVA)"
   ]
  },
  {
   "cell_type": "code",
   "execution_count": 4,
   "metadata": {},
   "outputs": [
    {
     "ename": "NameError",
     "evalue": "name 'bands' is not defined",
     "output_type": "error",
     "traceback": [
      "\u001b[0;31m---------------------------------------------------------------------------\u001b[0m",
      "\u001b[0;31mNameError\u001b[0m                                 Traceback (most recent call last)",
      "\u001b[0;32m<ipython-input-4-09ff3a53edb7>\u001b[0m in \u001b[0;36m<module>\u001b[0;34m\u001b[0m\n\u001b[1;32m      1\u001b[0m \u001b[0mfandp_anova\u001b[0m \u001b[0;34m=\u001b[0m \u001b[0;34m{\u001b[0m\u001b[0;34m}\u001b[0m\u001b[0;34m\u001b[0m\u001b[0;34m\u001b[0m\u001b[0m\n\u001b[0;32m----> 2\u001b[0;31m \u001b[0;32mfor\u001b[0m \u001b[0mband\u001b[0m \u001b[0;32min\u001b[0m \u001b[0mbands\u001b[0m\u001b[0;34m:\u001b[0m\u001b[0;34m\u001b[0m\u001b[0;34m\u001b[0m\u001b[0m\n\u001b[0m\u001b[1;32m      3\u001b[0m     \u001b[0mfandp_anova\u001b[0m\u001b[0;34m[\u001b[0m\u001b[0mband\u001b[0m\u001b[0;34m]\u001b[0m \u001b[0;34m=\u001b[0m \u001b[0;34m{\u001b[0m\u001b[0;34m}\u001b[0m\u001b[0;34m\u001b[0m\u001b[0;34m\u001b[0m\u001b[0m\n\u001b[1;32m      4\u001b[0m     \u001b[0;32mfor\u001b[0m \u001b[0mchannel\u001b[0m \u001b[0;32min\u001b[0m \u001b[0mchannels\u001b[0m\u001b[0;34m:\u001b[0m\u001b[0;34m\u001b[0m\u001b[0;34m\u001b[0m\u001b[0m\n\u001b[1;32m      5\u001b[0m         \u001b[0mfandp_anova\u001b[0m\u001b[0;34m[\u001b[0m\u001b[0mband\u001b[0m\u001b[0;34m]\u001b[0m\u001b[0;34m[\u001b[0m\u001b[0mchannel\u001b[0m\u001b[0;34m]\u001b[0m \u001b[0;34m=\u001b[0m \u001b[0mstats\u001b[0m\u001b[0;34m.\u001b[0m\u001b[0mf_oneway\u001b[0m\u001b[0;34m(\u001b[0m\u001b[0mcumdata\u001b[0m\u001b[0;34m[\u001b[0m\u001b[0mband\u001b[0m\u001b[0;34m]\u001b[0m\u001b[0;34m[\u001b[0m\u001b[0mchannel\u001b[0m\u001b[0;34m]\u001b[0m\u001b[0;34m[\u001b[0m\u001b[0;34m\"face\"\u001b[0m\u001b[0;34m]\u001b[0m\u001b[0;34m,\u001b[0m \u001b[0mcumdata\u001b[0m\u001b[0;34m[\u001b[0m\u001b[0mband\u001b[0m\u001b[0;34m]\u001b[0m\u001b[0;34m[\u001b[0m\u001b[0mchannel\u001b[0m\u001b[0;34m]\u001b[0m\u001b[0;34m[\u001b[0m\u001b[0;34m\"noface\"\u001b[0m\u001b[0;34m]\u001b[0m\u001b[0;34m)\u001b[0m\u001b[0;34m\u001b[0m\u001b[0;34m\u001b[0m\u001b[0m\n",
      "\u001b[0;31mNameError\u001b[0m: name 'bands' is not defined"
     ]
    }
   ],
   "source": [
    "fandp_anova = {}\n",
    "for band in bands:\n",
    "    fandp_anova[band] = {}\n",
    "    for channel in channels:\n",
    "        fandp_anova[band][channel] = stats.f_oneway(cumdata[band][channel][\"face\"], cumdata[band][channel][\"noface\"])\n",
    "fandp_kruskal = {}\n",
    "for band in bands:\n",
    "    fandp_kruskal[band] = {}\n",
    "    for channel in channels:\n",
    "        fandp_kruskal[band][channel] = stats.kruskal(cumdata[band][channel][\"face\"], cumdata[band][channel][\"noface\"])\n",
    "\n",
    "savefile = open(\"data.csv\", \"w\")\n",
    "savefile.write(\"band, channel, owanova_F, owanova_p, kruskal_F, kruskal_p\\n\")\n",
    "\n",
    "for band in bands:\n",
    "    for channel in channels:\n",
    "        str0 = str(band) + \", \" + str(channel) + \", \"\n",
    "        list1 = list(fandp_anova[band][channel])\n",
    "        str1 = str(list1[0]) + \", \" + str(list1[1]) + \", \"\n",
    "        list2 = list(fandp_kruskal[band][channel])\n",
    "        str2 = str(list2[0]) + \", \" + str(list2[1]) + \"\\n\"\n",
    "        strend = str0 + str1 + str2\n",
    "        savefile.write(strend)\n",
    "        \n",
    "        #print(\"--- BAND \" + band + \" CHANNEL \" + channel + \" ---\")\n",
    "        #print(\"OWANOVA: \" + str(fandp_anova[band][channel]))\n",
    "        #print(\"KRUSKAL: \" + str(fandp_kruskal[band][channel]))"
   ]
  },
  {
   "cell_type": "code",
   "execution_count": 37,
   "metadata": {},
   "outputs": [],
   "source": [
    "vals = [float(value) for value in cumdata[\"gamma\"][\"Fpz\"][\"noface\"]]"
   ]
  },
  {
   "cell_type": "code",
   "execution_count": 39,
   "metadata": {},
   "outputs": [],
   "source": [
    "vals = np.array(vals)\n",
    "vals = (vals - vals.min())/vals.max()"
   ]
  },
  {
   "cell_type": "code",
   "execution_count": 44,
   "metadata": {},
   "outputs": [],
   "source": [
    "hist = np.histogram(vals, 4)"
   ]
  },
  {
   "cell_type": "code",
   "execution_count": 45,
   "metadata": {},
   "outputs": [
    {
     "data": {
      "text/plain": [
       "(array([  16,   73,  334, 2279]),\n",
       " array([0.        , 0.00498854, 0.00997709, 0.01496563, 0.01995417]))"
      ]
     },
     "execution_count": 45,
     "metadata": {},
     "output_type": "execute_result"
    }
   ],
   "source": [
    "hist"
   ]
  },
  {
   "cell_type": "code",
   "execution_count": null,
   "metadata": {},
   "outputs": [],
   "source": [
    "plt.plot()"
   ]
  },
  {
   "cell_type": "markdown",
   "metadata": {},
   "source": [
    "## Plotting part"
   ]
  },
  {
   "cell_type": "code",
   "execution_count": null,
   "metadata": {},
   "outputs": [],
   "source": [
    "fig = plt.figure()\n",
    "\n",
    "bands = list(MI_rel.keys())\n",
    "k = bands[0]\n",
    "labels = list(MI_rel[k].keys())\n",
    "mi_rel_vals = list(MI_rel[k].values())\n",
    "ds8_rel_vals = list(MI_rel_ds8[k].values())"
   ]
  },
  {
   "cell_type": "code",
   "execution_count": null,
   "metadata": {},
   "outputs": [],
   "source": [
    "x = np.arange(len(labels))  # the label locations\n",
    "width = 0.35  # the width of the bars\n",
    "\n",
    "fig, ax = plt.subplots()\n",
    "rects1 = ax.bar(x - width/2, mi_rel_vals, width, label='No downsampling')\n",
    "rects2 = ax.bar(x + width/2, ds8_rel_vals, width, label='Downsampling')\n",
    "\n",
    "ax.set_ylabel('Relative Mutual Information')\n",
    "ax.set_title('Comparison between downsampled and non-downsampled MI values')\n",
    "ax.set_xticks(x)\n",
    "ax.set_xticklabels(labels)\n",
    "ax.legend()\n",
    "\n",
    "\n",
    "fig.tight_layout()\n",
    "\n",
    "plt.show()"
   ]
  },
  {
   "cell_type": "code",
   "execution_count": 7,
   "metadata": {},
   "outputs": [],
   "source": [
    "paths = glob.glob(\"../raw_data/Stimuli/*.wav\")"
   ]
  },
  {
   "cell_type": "code",
   "execution_count": 14,
   "metadata": {},
   "outputs": [
    {
     "name": "stderr",
     "output_type": "stream",
     "text": [
      "/Library/Python/3.7/site-packages/ipykernel_launcher.py:6: WavFileWarning: Chunk (non-data) not understood, skipping it.\n",
      "  \n"
     ]
    }
   ],
   "source": [
    "tot = 0\n",
    "cumsum = 0\n",
    "seconds =[]\n",
    "for path in paths:\n",
    "    try:\n",
    "        fs, data = wavfile.read(path)\n",
    "        seconds.append(len(data)/fs)\n",
    "        cumsum += len(data)/fs\n",
    "        tot += 1\n",
    "    except:\n",
    "        continue"
   ]
  },
  {
   "cell_type": "markdown",
   "metadata": {},
   "source": [
    "### Import MI_diff and MI_rel (.dat) and export as .xlsx\n",
    "\n",
    "This is done to put them nicely in Google sheets and be able to check which ranges of values we are working with"
   ]
  },
  {
   "cell_type": "markdown",
   "metadata": {},
   "source": [
    "```\n",
    "midiff = open(\"./quick_exports/MI_diff.dat\", \"r\")\n",
    "midiff = eval(midiff.readline())\n",
    "df = pd.DataFrame(midiff)\n",
    "df.to_excel(\"midiff.xlsx\")\n",
    "mirel = open(\"./quick_exports/MI_rel.dat\", \"r\")\n",
    "mirel = eval(mirel.readline())\n",
    "df = pd.DataFrame(mirel)\n",
    "df.to_excel(\"mirel.xlsx\")\n",
    "```"
   ]
  },
  {
   "cell_type": "markdown",
   "metadata": {},
   "source": [
    "## Put the .json files exported from MI_Calculation to .csv"
   ]
  },
  {
   "cell_type": "code",
   "execution_count": 3,
   "metadata": {},
   "outputs": [],
   "source": [
    "with open(\"kw.json\", \"r\") as jsonfile:\n",
    "    kw = json.load(jsonfile)\n",
    "with open(\"anova.json\", \"r\") as jsonfile:\n",
    "    anova = json.load(jsonfile)"
   ]
  },
  {
   "cell_type": "code",
   "execution_count": 4,
   "metadata": {},
   "outputs": [],
   "source": [
    "csvfile = open(\"anovakruskal.csv\", \"w\")\n",
    "for band in kw.keys():\n",
    "    for channel in kw[band].keys():\n",
    "        kwf, kwp = kw[band][channel]\n",
    "        anovaf, anovap = anova[band][channel]\n",
    "        print_string = \",\".join([band, channel, str(kwf), str(kwp), str(anovaf), str(anovap), \"\\n\"])\n",
    "        csvfile.write(print_string)\n",
    "        \n",
    "csvfile.close()\n",
    "        "
   ]
  },
  {
   "cell_type": "markdown",
   "metadata": {},
   "source": [
    "### Let's do a Kolmogorov-Smirnov test"
   ]
  },
  {
   "cell_type": "code",
   "execution_count": 3,
   "metadata": {},
   "outputs": [],
   "source": [
    "with open(\"cumdata.json\", \"r\") as jsonfile:\n",
    "    cumdata = json.load(jsonfile)"
   ]
  },
  {
   "cell_type": "code",
   "execution_count": 25,
   "metadata": {},
   "outputs": [
    {
     "data": {
      "text/plain": [
       "2704"
      ]
     },
     "execution_count": 25,
     "metadata": {},
     "output_type": "execute_result"
    }
   ],
   "source": [
    "len(cumdata[\"delta\"][\"Fp1\"][\"face\"])"
   ]
  },
  {
   "cell_type": "code",
   "execution_count": 11,
   "metadata": {},
   "outputs": [],
   "source": [
    "csvfile = open(\"kstest.csv\", \"w\")\n",
    "for band in cumdata.keys():\n",
    "    for channel in cumdata[band].keys():\n",
    "        for state in cumdata[band][channel].keys():\n",
    "            data = cumdata[band][channel][state]\n",
    "            hist, bin_edges = np.histogram(data, int(np.ceil(len(data)/100)))\n",
    "            \n",
    "            \n",
    "            \n",
    "            \n",
    "            ks_stats, p_value = stats.kstest(np.abs(), 'norm')\n",
    "            print_string = \",\".join([band, channel, str(ks_stats), str(p_value), \"\\n\"])\n",
    "            csvfile.write(print_string)\n",
    "            \n",
    "csvfile.close()"
   ]
  },
  {
   "cell_type": "code",
   "execution_count": 36,
   "metadata": {},
   "outputs": [],
   "source": [
    "data = cumdata[\"theta_high\"][\"Fp1\"][\"noface\"]\n",
    "hist, bin_edges = np.histogram(data, int(np.ceil(len(data)/100)))\n",
    "values = []\n",
    "for i in range(len(hist)):\n",
    "    values.append([hist[i], (bin_edges[i]+bin_edges[i+1])/2])"
   ]
  },
  {
   "cell_type": "code",
   "execution_count": 37,
   "metadata": {},
   "outputs": [],
   "source": [
    "data = np.hstack([np.repeat(x, int(f)) for f,x in values])\n",
    "loc, scale = stats.norm.fit(data)\n",
    "n = stats.norm(loc=loc, scale=scale)"
   ]
  },
  {
   "cell_type": "code",
   "execution_count": 38,
   "metadata": {},
   "outputs": [
    {
     "data": {
      "image/png": "[encoded data removed]",
      "text/plain": [
       "<Figure size 432x288 with 1 Axes>"
      ]
     },
     "metadata": {
      "needs_background": "light"
     },
     "output_type": "display_data"
    }
   ],
   "source": [
    "plt.hist(data, bins=np.arange(data.min(), data.max()+0.2, 0.2), rwidth=0.5)\n",
    "x = np.arange(data.min(), data.max()+0.2, 0.2)\n",
    "plt.plot(x, 350*n.pdf(x))\n",
    "plt.show()"
   ]
  },
  {
   "cell_type": "code",
   "execution_count": 39,
   "metadata": {},
   "outputs": [
    {
     "data": {
      "text/plain": [
       "KstestResult(statistic=0.281805761463791, pvalue=8.336727664930047e-187)"
      ]
     },
     "execution_count": 39,
     "metadata": {},
     "output_type": "execute_result"
    }
   ],
   "source": [
    "stats.kstest(data, n.cdf)"
   ]
  },
  {
   "cell_type": "code",
   "execution_count": 35,
   "metadata": {},
   "outputs": [
    {
     "data": {
      "text/plain": [
       "dict_keys(['face', 'noface'])"
      ]
     },
     "execution_count": 35,
     "metadata": {},
     "output_type": "execute_result"
    }
   ],
   "source": [
    "cumdata[\"theta_high\"][\"Fp1\"].keys()"
   ]
  },
  {
   "cell_type": "code",
   "execution_count": null,
   "metadata": {},
   "outputs": [],
   "source": []
  }
 ],
 "metadata": {
  "kernelspec": {
   "display_name": "Python 3",
   "language": "python",
   "name": "python3"
  },
  "language_info": {
   "codemirror_mode": {
    "name": "ipython",
    "version": 3
   },
   "file_extension": ".py",
   "mimetype": "text/x-python",
   "name": "python",
   "nbconvert_exporter": "python",
   "pygments_lexer": "ipython3",
   "version": "3.7.3"
  }
 },
 "nbformat": 4,
 "nbformat_minor": 4
}
