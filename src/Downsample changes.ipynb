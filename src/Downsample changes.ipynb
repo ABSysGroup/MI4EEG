{
 "cells": [
  {
   "cell_type": "markdown",
   "metadata": {},
   "source": [
    "# Cuaderno de cálculos y gráficas"
   ]
  },
  {
   "cell_type": "code",
   "execution_count": null,
   "metadata": {},
   "outputs": [],
   "source": [
    "import glob\n",
    "import logging\n",
    "import numpy as np\n",
    "import pandas as pd\n",
    "import os\n",
    "import json\n",
    "\n",
    "import matplotlib as mpl\n",
    "import matplotlib.pyplot as plt\n",
    "\n",
    "from scipy.io import wavfile\n",
    "import scipy.stats as stats\n",
    "import scipy.signal as snl\n",
    "import processing as pr"
   ]
  },
  {
   "cell_type": "code",
   "execution_count": null,
   "metadata": {},
   "outputs": [],
   "source": [
    "freq_ranges = {\"delta\": (1, 3), \"theta_low\": (3, 5), \"theta_high\": (5, 7),\n",
    "               \"alpha\": (7, 12), \"beta\": (12, 30), \"gamma\": (30, 50), \"high_freq\": (50, 100)}\n",
    "freq_limits = [1, 3, 5, 7, 12, 30, 50, 100]\n",
    "phs_lims = np.linspace(-np.pi, np.pi, 4)"
   ]
  },
  {
   "cell_type": "code",
   "execution_count": null,
   "metadata": {},
   "outputs": [],
   "source": [
    "raw_data_folder_path = \"../raw_data/\"\n",
    "segment_folder_path = \"../preprocessed_data/segments/\"\n",
    "segment_file_paths = glob.glob(segment_folder_path + \"*.dat\")\n",
    "mi_folder_path = \"../results/mutualinfo/no_ds/\"\n",
    "mi_ds8_folder_path = \"../results/mutualinfo/ds8/\""
   ]
  },
  {
   "cell_type": "code",
   "execution_count": null,
   "metadata": {},
   "outputs": [],
   "source": [
    "multimedia_folder_path = \"../raw_data/Stimuli/\"  # \"../Data/downsampled_audios/\"\n",
    "audio_file_paths = glob.glob(multimedia_folder_path + \"*.wav\")"
   ]
  },
  {
   "cell_type": "markdown",
   "metadata": {},
   "source": [
    "## Load the data from ds1 and ds8 + Kruskal-Wallis stuff"
   ]
  },
  {
   "cell_type": "code",
   "execution_count": null,
   "metadata": {},
   "outputs": [],
   "source": [
    "with open(\"./no_ds/cumdata.json\") as jsonfile:\n",
    "    ds1 = json.load(jsonfile)\n",
    "with open(\"./ds8/cumdata.json\") as jsonfile:\n",
    "    ds8 = json.load(jsonfile)"
   ]
  },
  {
   "cell_type": "code",
   "execution_count": null,
   "metadata": {
    "scrolled": true
   },
   "outputs": [],
   "source": [
    "alls = {}\n",
    "ps = []\n",
    "kws = []\n",
    "for band in freq_ranges.keys():\n",
    "    alls[band] = {}\n",
    "    #ps[band] = []\n",
    "    #kws[band] = []\n",
    "    for channel in ds1[band].keys():\n",
    "        ds1l = []\n",
    "        ds1l.extend(ds1[band][channel][\"face\"])\n",
    "        ds1l.extend(ds1[band][channel][\"noface\"])\n",
    "        ds8l = []\n",
    "        ds8l.extend(ds8[band][channel][\"face\"])\n",
    "        ds8l.extend(ds8[band][channel][\"noface\"])\n",
    "        alls[band][channel] = np.array(stats.kruskal(ds1l, ds8l))\n",
    "        if alls[band][channel][1] <= 0.25:\n",
    "            print(\"AHOY \" + band + \" \" + channel)\n",
    "        kws.append(alls[band][channel][0])\n",
    "        ps.append(alls[band][channel][1])\n",
    "        \n",
    "        \n",
    "        \n",
    "        "
   ]
  },
  {
   "cell_type": "code",
   "execution_count": null,
   "metadata": {},
   "outputs": [],
   "source": [
    "print(\"Banda de frecuencia & Valor de KW & $p$ valor \\\\\\\\\")\n",
    "for band in kws.keys():\n",
    "    string = band\n",
    "    string1 = str(np.mean(kws[band])) + \" \\pm \" + str(np.std(kws[band]))\n",
    "    string2 = str(np.mean(ps[band])) + \" \\pm \" + str(np.std(ps[band]))\n",
    "    fstring = \" & \".join([string, string1, string2])\n",
    "    print(fstring + \" \\\\\\\\\")"
   ]
  }
 ],
 "metadata": {
  "kernelspec": {
   "display_name": "Python 3",
   "language": "python",
   "name": "python3"
  },
  "language_info": {
   "codemirror_mode": {
    "name": "ipython",
    "version": 3
   },
   "file_extension": ".py",
   "mimetype": "text/x-python",
   "name": "python",
   "nbconvert_exporter": "python",
   "pygments_lexer": "ipython3",
   "version": "3.7.3"
  }
 },
 "nbformat": 4,
 "nbformat_minor": 4
}
