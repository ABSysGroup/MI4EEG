{
 "cells": [
  {
   "cell_type": "markdown",
   "metadata": {},
   "source": [
    "# Cuaderno de cálculos y gráficas"
   ]
  },
  {
   "cell_type": "code",
   "execution_count": 1,
   "metadata": {},
   "outputs": [
    {
     "name": "stderr",
     "output_type": "stream",
     "text": [
      " 2020-06-10 08:31:51,591 - DEBUG - Define classes and functions.\n",
      " 2020-06-10 08:31:51,594 - DEBUG - Loaded backend module://ipykernel.pylab.backend_inline version unknown.\n"
     ]
    }
   ],
   "source": [
    "# Import modules\n",
    "import ipywidgets\n",
    "import numpy as np\n",
    "import pandas as pd\n",
    "import importlib\n",
    "import logging\n",
    "import glob\n",
    "import os\n",
    "\n",
    "# All the stuffs for the processing of MI\n",
    "import processing as pr\n",
    "\n",
    "# Plotting\n",
    "import matplotlib as mpl\n",
    "import matplotlib.pyplot as plt\n",
    "%matplotlib inline\n",
    "\n",
    "# Signal processing\n",
    "import scipy.signal as snl\n",
    "from scipy.io import wavfile\n",
    "import scipy.stats as stats\n",
    "\n",
    "# Logging\n",
    "import logging\n",
    "logging.disable(logging.CRITICAL)"
   ]
  },
  {
   "cell_type": "markdown",
   "metadata": {},
   "source": [
    "### Load MI_diff.dat"
   ]
  },
  {
   "cell_type": "code",
   "execution_count": 5,
   "metadata": {},
   "outputs": [],
   "source": [
    "midiff = open(\"MI_diff.dat\", \"r\")\n",
    "midiff = eval(midiff.readline())\n",
    "mirel = open(\"MI_rel.dat\", \"r\")\n",
    "mirel = eval(mirel.readline())"
   ]
  },
  {
   "cell_type": "code",
   "execution_count": 11,
   "metadata": {},
   "outputs": [],
   "source": [
    "df = pd.DataFrame(mirel)"
   ]
  },
  {
   "cell_type": "code",
   "execution_count": 12,
   "metadata": {},
   "outputs": [],
   "source": [
    "df.to_excel(\"mirel.xlsx\")"
   ]
  },
  {
   "cell_type": "markdown",
   "metadata": {},
   "source": [
    "### File paths"
   ]
  },
  {
   "cell_type": "code",
   "execution_count": 2,
   "metadata": {},
   "outputs": [],
   "source": [
    "mi_folder = \"../Data/mutualinfo/\"\n",
    "mi_files = glob.glob(mi_folder + \"ds1/*.mi\")\n",
    "mi_files.sort()\n",
    "ds8_files = glob.glob(mi_folder + \"ds8/*.mi\")\n",
    "ds8_files.sort()"
   ]
  },
  {
   "cell_type": "markdown",
   "metadata": {},
   "source": [
    "To open the files with the MI data already averaged\n",
    "```\n",
    "with open(\"MI_rel.dat\", \"r\") as f:\n",
    "    line = f.readline()\n",
    "    MI_rel = eval(line)\n",
    "with open(\"MI_rel_ds8.dat\", \"r\") as f:\n",
    "    line = f.readline()\n",
    "    MI_rel_ds8 = eval(line)\n",
    "    \n",
    "bands = list(MI_rel.keys())\n",
    "channels = list(MI_rel[\"delta\"].keys())\n",
    "```"
   ]
  },
  {
   "cell_type": "markdown",
   "metadata": {},
   "source": [
    "### Get MI info from files\n",
    "We've already calculated all the MI values. Now we will take those values and do some statistical calculations on them."
   ]
  },
  {
   "cell_type": "code",
   "execution_count": 4,
   "metadata": {},
   "outputs": [
    {
     "name": "stdout",
     "output_type": "stream",
     "text": [
      "Gone through 18.49796522382538\n",
      "Gone through 36.99593044765076\n",
      "Gone through 55.49389567147613\n",
      "Gone through 73.99186089530151\n",
      "Gone through 92.48982611912689\n",
      "Gone through 100.0\n"
     ]
    }
   ],
   "source": [
    "importlib.reload(pr)\n",
    "cumdata = {}\n",
    "total = len(mi_files)\n",
    "current = 0\n",
    "for file in mi_files:\n",
    "    data = pr.MutualInformation()\n",
    "    data.load(file_path = file)\n",
    "    # name = os.path.split(file)[1].split(\".\")[0] + \"_ds8.mi\n",
    "    # folder = os.path.split(os.path.split(file)[0])[0] + \"/ds8/\"\n",
    "    # path = folder + name\n",
    "    # datads8 = pr.MutualInformation(1,2,3,4,5,True,path)\n",
    "    \n",
    "    try:\n",
    "        bands\n",
    "    except NameError:\n",
    "        bands = list(data.mi.keys())\n",
    "        channels = list(data.mi[bands[0]].keys()) \n",
    "        \n",
    "    if cumdata == {}:\n",
    "        for band in bands:\n",
    "            cumdata[band] = {}\n",
    "            for channel in channels:\n",
    "                cumdata[band][channel] = {\"face\": [], \"noface\": []}\n",
    "\n",
    "    for band in bands:\n",
    "        for channel in channels:\n",
    "            if data.face_nonscrambled:\n",
    "                cumdata[band][channel][\"face\"].append(data.mi[band][channel])\n",
    "            else:\n",
    "                cumdata[band][channel][\"noface\"].append(data.mi[band][channel])\n",
    "    current += 1\n",
    "    if current%1000 == 0 or current == total:\n",
    "        print(\"Gone through \" + str(current/total *100))"
   ]
  },
  {
   "cell_type": "markdown",
   "metadata": {},
   "source": [
    "### Prepare parametric and non-parametric tests (one way ANOVA and Kruskal-Wallis ANOVA)"
   ]
  },
  {
   "cell_type": "code",
   "execution_count": 8,
   "metadata": {},
   "outputs": [],
   "source": [
    "fandp_anova = {}\n",
    "for band in bands:\n",
    "    fandp_anova[band] = {}\n",
    "    for channel in channels:\n",
    "        fandp_anova[band][channel] = stats.f_oneway(cumdata[band][channel][\"face\"], cumdata[band][channel][\"noface\"])\n",
    "fandp_kruskal = {}\n",
    "for band in bands:\n",
    "    fandp_kruskal[band] = {}\n",
    "    for channel in channels:\n",
    "        fandp_kruskal[band][channel] = stats.kruskal(cumdata[band][channel][\"face\"], cumdata[band][channel][\"noface\"])\n",
    "\n",
    "savefile = open(\"data.csv\", \"w\")\n",
    "savefile.write(\"band, channel, owanova_F, owanova_p, kruskal_F, kruskal_p\\n\")\n",
    "\n",
    "for band in bands:\n",
    "    for channel in channels:\n",
    "        str0 = str(band) + \", \" + str(channel) + \", \"\n",
    "        list1 = list(fandp_anova[band][channel])\n",
    "        str1 = str(list1[0]) + \", \" + str(list1[1]) + \", \"\n",
    "        list2 = list(fandp_kruskal[band][channel])\n",
    "        str2 = str(list2[0]) + \", \" + str(list2[1]) + \"\\n\"\n",
    "        strend = str0 + str1 + str2\n",
    "        savefile.write(strend)\n",
    "        \n",
    "        #print(\"--- BAND \" + band + \" CHANNEL \" + channel + \" ---\")\n",
    "        #print(\"OWANOVA: \" + str(fandp_anova[band][channel]))\n",
    "        #print(\"KRUSKAL: \" + str(fandp_kruskal[band][channel]))"
   ]
  },
  {
   "cell_type": "code",
   "execution_count": 37,
   "metadata": {},
   "outputs": [],
   "source": [
    "vals = [float(value) for value in cumdata[\"gamma\"][\"Fpz\"][\"noface\"]]"
   ]
  },
  {
   "cell_type": "code",
   "execution_count": 39,
   "metadata": {},
   "outputs": [],
   "source": [
    "vals = np.array(vals)\n",
    "vals = (vals - vals.min())/vals.max()"
   ]
  },
  {
   "cell_type": "code",
   "execution_count": 44,
   "metadata": {},
   "outputs": [],
   "source": [
    "hist = np.histogram(vals, 4)"
   ]
  },
  {
   "cell_type": "code",
   "execution_count": 45,
   "metadata": {},
   "outputs": [
    {
     "data": {
      "text/plain": [
       "(array([  16,   73,  334, 2279]),\n",
       " array([0.        , 0.00498854, 0.00997709, 0.01496563, 0.01995417]))"
      ]
     },
     "execution_count": 45,
     "metadata": {},
     "output_type": "execute_result"
    }
   ],
   "source": [
    "hist"
   ]
  },
  {
   "cell_type": "code",
   "execution_count": null,
   "metadata": {},
   "outputs": [],
   "source": [
    "plt.plot()"
   ]
  },
  {
   "cell_type": "markdown",
   "metadata": {},
   "source": [
    "## Plotting part"
   ]
  },
  {
   "cell_type": "code",
   "execution_count": null,
   "metadata": {},
   "outputs": [],
   "source": [
    "fig = plt.figure()\n",
    "\n",
    "bands = list(MI_rel.keys())\n",
    "k = bands[0]\n",
    "labels = list(MI_rel[k].keys())\n",
    "mi_rel_vals = list(MI_rel[k].values())\n",
    "ds8_rel_vals = list(MI_rel_ds8[k].values())"
   ]
  },
  {
   "cell_type": "code",
   "execution_count": null,
   "metadata": {},
   "outputs": [],
   "source": [
    "x = np.arange(len(labels))  # the label locations\n",
    "width = 0.35  # the width of the bars\n",
    "\n",
    "fig, ax = plt.subplots()\n",
    "rects1 = ax.bar(x - width/2, mi_rel_vals, width, label='No downsampling')\n",
    "rects2 = ax.bar(x + width/2, ds8_rel_vals, width, label='Downsampling')\n",
    "\n",
    "ax.set_ylabel('Relative Mutual Information')\n",
    "ax.set_title('Comparison between downsampled and non-downsampled MI values')\n",
    "ax.set_xticks(x)\n",
    "ax.set_xticklabels(labels)\n",
    "ax.legend()\n",
    "\n",
    "\n",
    "fig.tight_layout()\n",
    "\n",
    "plt.show()"
   ]
  },
  {
   "cell_type": "code",
   "execution_count": null,
   "metadata": {},
   "outputs": [],
   "source": []
  }
 ],
 "metadata": {
  "kernelspec": {
   "display_name": "Python 3",
   "language": "python",
   "name": "python3"
  },
  "language_info": {
   "codemirror_mode": {
    "name": "ipython",
    "version": 3
   },
   "file_extension": ".py",
   "mimetype": "text/x-python",
   "name": "python",
   "nbconvert_exporter": "python",
   "pygments_lexer": "ipython3",
   "version": "3.7.3"
  }
 },
 "nbformat": 4,
 "nbformat_minor": 4
}
